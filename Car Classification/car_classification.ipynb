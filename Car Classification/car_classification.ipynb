{
  "nbformat": 4,
  "nbformat_minor": 0,
  "metadata": {
    "colab": {
      "name": "Car Classification",
      "provenance": [],
      "collapsed_sections": []
    },
    "kernelspec": {
      "name": "python3",
      "display_name": "Python 3"
    },
    "accelerator": "GPU"
  },
  "cells": [
    {
      "cell_type": "markdown",
      "metadata": {
        "id": "HVbXGB-b4MPq",
        "colab_type": "text"
      },
      "source": [
        "Importing the libraries"
      ]
    },
    {
      "cell_type": "code",
      "metadata": {
        "id": "1j8vLLIy4Q4L",
        "colab_type": "code",
        "colab": {}
      },
      "source": [
        "import pandas as pd\n",
        "import numpy as np\n",
        "import keras\n",
        "import matplotlib.pyplot as plt\n",
        "from keras.models import Sequential\n",
        "from keras.layers import Dense\n",
        "from sklearn.preprocessing import LabelEncoder, StandardScaler\n",
        "from sklearn.model_selection import train_test_split, StratifiedKFold, cross_val_score\n",
        "from sklearn.metrics import confusion_matrix, accuracy_score, precision_score, recall_score, classification_report\n",
        "from keras.utils import to_categorical\n",
        "from keras.wrappers.scikit_learn import KerasClassifier"
      ],
      "execution_count": 0,
      "outputs": []
    },
    {
      "cell_type": "markdown",
      "metadata": {
        "id": "rRGUNF6D4C4i",
        "colab_type": "text"
      },
      "source": [
        "Importing the dataset"
      ]
    },
    {
      "cell_type": "code",
      "metadata": {
        "id": "FdgunakT33O4",
        "colab_type": "code",
        "colab": {}
      },
      "source": [
        "from google.colab import drive\n",
        "drive.mount('/content/gdrive/')\n",
        "\n",
        "dataset = pd.read_table('/content/gdrive/My Drive/Dataset/car.data', sep = ',', names = ['buying', 'maint', 'doors', 'persons', 'lugboot', 'safety', 'class'])\n",
        "print(dataset.info())"
      ],
      "execution_count": 0,
      "outputs": []
    },
    {
      "cell_type": "markdown",
      "metadata": {
        "id": "NWeWbLPh5DqI",
        "colab_type": "text"
      },
      "source": [
        "Histogram showing distribution of classes"
      ]
    },
    {
      "cell_type": "code",
      "metadata": {
        "id": "G7M71JBF4L_M",
        "colab_type": "code",
        "colab": {}
      },
      "source": [
        "print(dataset['class'].value_counts())\n",
        "dataset['class'].value_counts().plot(kind='bar', title='Count (target)');"
      ],
      "execution_count": 0,
      "outputs": []
    },
    {
      "cell_type": "markdown",
      "metadata": {
        "id": "QO8RP9BM5VwG",
        "colab_type": "text"
      },
      "source": [
        "As you can see the dataset is highly imbalanced.\n",
        "This will result in overfitting"
      ]
    },
    {
      "cell_type": "markdown",
      "metadata": {
        "id": "CD5w0qMA8fPK",
        "colab_type": "text"
      },
      "source": [
        "Oversampling\n"
      ]
    },
    {
      "cell_type": "code",
      "metadata": {
        "id": "-PMggxFx5tbx",
        "colab_type": "code",
        "colab": {}
      },
      "source": [
        "class_count = dataset['class'].value_counts() #Class counts\n",
        "max_class = max(class_count) #Getting the class with the max count i.e unacc\n",
        "\n",
        "#Dividing dataset by class\n",
        "dataset_class_0 = dataset[dataset['class']=='acc']\n",
        "dataset_class_1 = dataset[dataset['class']=='good']\n",
        "dataset_class_2 = dataset[dataset['class']=='unacc']\n",
        "dataset_class_3 = dataset[dataset['class']=='vgood']\n",
        "\n",
        "#Oversampling\n",
        "dataset_class_0_over = dataset_class_0.sample(max_class, replace = True)\n",
        "dataset_class_1_over = dataset_class_1.sample(max_class, replace = True)\n",
        "dataset_class_3_over = dataset_class_3.sample(max_class, replace = True)\n",
        "\n",
        "dataset_new = pd.concat([dataset_class_0_over,dataset_class_1_over,dataset_class_3_over,dataset_class_2], axis = 0)\n",
        "dataset_new['class'].value_counts().plot(kind='bar', title='Count (target)');\n",
        "print(dataset_new)"
      ],
      "execution_count": 0,
      "outputs": []
    },
    {
      "cell_type": "markdown",
      "metadata": {
        "id": "bOkcc0fRGhDH",
        "colab_type": "text"
      },
      "source": [
        "Preprocessing"
      ]
    },
    {
      "cell_type": "code",
      "metadata": {
        "id": "Hnx2v9bAA4Vv",
        "colab_type": "code",
        "colab": {}
      },
      "source": [
        "X = dataset_new.drop(labels='class', axis=1)\n",
        "Y = dataset_new['class']\n",
        "\n",
        "#Encoding Categorical data\n",
        "encoder_X = LabelEncoder()\n",
        "for col in X.columns:\n",
        "    X[col] = encoder_X.fit_transform(X[col])\n",
        "\n",
        "encoder_y = LabelEncoder()\n",
        "Y = encoder_y.fit_transform(Y)\n",
        "\n",
        "#Getting Dummy Variables\n",
        "X = pd.get_dummies(X, columns=X.columns, drop_first=True)\n",
        "\n",
        "#Splitting the dataset into training and test set\n",
        "X_train, X_test, Y_train, Y_test = train_test_split(X, Y, test_size = 0.25, random_state = 42)\n",
        "\n",
        "#Feature Scaling\n",
        "sc = StandardScaler()\n",
        "X_train = sc.fit_transform(X_train)\n",
        "X_test = sc.transform(X_test)\n",
        "\n",
        "#OneHotEncoding the target\n",
        "one_hot_Y_train = to_categorical(Y_train) #For ANN"
      ],
      "execution_count": 0,
      "outputs": []
    },
    {
      "cell_type": "markdown",
      "metadata": {
        "id": "JQbk7EJfi0Bs",
        "colab_type": "text"
      },
      "source": [
        "Logistic Regression"
      ]
    },
    {
      "cell_type": "code",
      "metadata": {
        "id": "Wq8ovxG1i663",
        "colab_type": "code",
        "colab": {}
      },
      "source": [
        "from sklearn.linear_model import LogisticRegression\n",
        "#Fitting Logistic Regression to the training set\n",
        "classifier = LogisticRegression(random_state=0, max_iter=1000)\n",
        "classifier.fit(X_train,Y_train)\n",
        "\n",
        "#Predicting the test set results\n",
        "Y_pred = classifier.predict(X_test)\n",
        "\n",
        "#Making the Confusion Matrix\n",
        "cm = confusion_matrix(Y_test, Y_pred)\n",
        "acc_score = accuracy_score(Y_test, Y_pred)\n",
        "report = classification_report(Y_test,Y_pred)\n",
        "print(\"Accuracy: %0.2f\\n\" %(acc_score))\n",
        "print('Classification Report:\\n{}\\n'.format(report))\n",
        "print('Confusion Matrix:\\n{}\\n'.format(cm))"
      ],
      "execution_count": 0,
      "outputs": []
    },
    {
      "cell_type": "markdown",
      "metadata": {
        "id": "lXW-DtfGmrXx",
        "colab_type": "text"
      },
      "source": [
        "Naive Bayes"
      ]
    },
    {
      "cell_type": "code",
      "metadata": {
        "id": "5UZq1ZDtmqec",
        "colab_type": "code",
        "colab": {}
      },
      "source": [
        "from sklearn.naive_bayes import GaussianNB\n",
        "#Fitting Naive Bayes to the training set\n",
        "classifier = GaussianNB()\n",
        "classifier.fit(X_train,Y_train)\n",
        "\n",
        "#Predicting the test set results\n",
        "Y_pred = classifier.predict(X_test)\n",
        "\n",
        "#Making the Confusion Matrix\n",
        "cm = confusion_matrix(Y_test, Y_pred)\n",
        "acc_score = accuracy_score(Y_test, Y_pred)\n",
        "report = classification_report(Y_test,Y_pred)\n",
        "print(\"Accuracy: %0.2f\\n\" %(acc_score))\n",
        "print('Classification Report:\\n{}\\n'.format(report))\n",
        "print('Confusion Matrix:\\n{}\\n'.format(cm))"
      ],
      "execution_count": 0,
      "outputs": []
    },
    {
      "cell_type": "markdown",
      "metadata": {
        "id": "wPe-Lwr7nzyt",
        "colab_type": "text"
      },
      "source": [
        "Kernel SVM"
      ]
    },
    {
      "cell_type": "code",
      "metadata": {
        "id": "fzf9YVjCn0ev",
        "colab_type": "code",
        "colab": {}
      },
      "source": [
        "from sklearn.svm import SVC\n",
        "#Fitting Kernel SVM to the training set\n",
        "classifier = SVC(kernel='rbf', random_state = 0, verbose=True)\n",
        "classifier.fit(X_train,Y_train)\n",
        "\n",
        "#Predicting the test set results\n",
        "Y_pred = classifier.predict(X_test)\n",
        "\n",
        "#Making the Confusion Matrix\n",
        "cm = confusion_matrix(Y_test, Y_pred)\n",
        "acc_score = accuracy_score(Y_test, Y_pred)\n",
        "report = classification_report(Y_test,Y_pred)\n",
        "print(\"Accuracy: %0.2f\\n\" %(acc_score))\n",
        "print('Classification Report:\\n{}\\n'.format(report))\n",
        "print('Confusion Matrix:\\n{}\\n'.format(cm))"
      ],
      "execution_count": 0,
      "outputs": []
    },
    {
      "cell_type": "markdown",
      "metadata": {
        "id": "SaDeG575oTtK",
        "colab_type": "text"
      },
      "source": [
        "K-Nearest Neighbours"
      ]
    },
    {
      "cell_type": "code",
      "metadata": {
        "id": "KKmPOu24oS18",
        "colab_type": "code",
        "colab": {}
      },
      "source": [
        "from sklearn.neighbors import KNeighborsClassifier\n",
        "#Fitting KNN to the training set\n",
        "classifier = KNeighborsClassifier(n_neighbors=5, metric='minkowski', p = 2)\n",
        "classifier.fit(X_train,Y_train)\n",
        "\n",
        "#Predicting the test set results\n",
        "Y_pred = classifier.predict(X_test)\n",
        "\n",
        "#Making the Confusion Matrix\n",
        "cm = confusion_matrix(Y_test, Y_pred)\n",
        "acc_score = accuracy_score(Y_test, Y_pred)\n",
        "report = classification_report(Y_test,Y_pred)\n",
        "print(\"Accuracy: %0.2f\\n\" %(acc_score))\n",
        "print('Classification Report:\\n{}\\n'.format(report))\n",
        "print('Confusion Matrix:\\n{}\\n'.format(cm))"
      ],
      "execution_count": 0,
      "outputs": []
    },
    {
      "cell_type": "markdown",
      "metadata": {
        "id": "rAOFgMztoiFh",
        "colab_type": "text"
      },
      "source": [
        "Decision Tree"
      ]
    },
    {
      "cell_type": "code",
      "metadata": {
        "id": "5nIgNMo-ohZ0",
        "colab_type": "code",
        "colab": {}
      },
      "source": [
        "from sklearn.tree import DecisionTreeClassifier\n",
        "#Fitting Decision Tree to the training set\n",
        "classifier = DecisionTreeClassifier(criterion='entropy',random_state=0)\n",
        "classifier.fit(X_train,Y_train)\n",
        "\n",
        "#Predicting the test set results\n",
        "Y_pred = classifier.predict(X_test)\n",
        "\n",
        "#Making the Confusion Matrix\n",
        "cm = confusion_matrix(Y_test, Y_pred)\n",
        "acc_score = accuracy_score(Y_test, Y_pred)\n",
        "report = classification_report(Y_test,Y_pred)\n",
        "print(\"Accuracy: %0.2f\\n\" %(acc_score))\n",
        "print('Classification Report:\\n{}\\n'.format(report))\n",
        "print('Confusion Matrix:\\n{}\\n'.format(cm))"
      ],
      "execution_count": 0,
      "outputs": []
    },
    {
      "cell_type": "markdown",
      "metadata": {
        "id": "AbFRXeBMozda",
        "colab_type": "text"
      },
      "source": [
        "Random Forest"
      ]
    },
    {
      "cell_type": "code",
      "metadata": {
        "id": "_FrBapLtoyn2",
        "colab_type": "code",
        "colab": {}
      },
      "source": [
        "from sklearn.ensemble import RandomForestClassifier\n",
        "#Fitting Random Forest to the training set\n",
        "classifier = RandomForestClassifier(n_estimators=10, criterion='entropy', random_state=0, verbose=0, n_jobs=-1)\n",
        "classifier.fit(X_train,Y_train)\n",
        "\n",
        "#Predicting the test set results\n",
        "Y_pred = classifier.predict(X_test)\n",
        "\n",
        "#Making the Confusion Matrix\n",
        "cm = confusion_matrix(Y_test, Y_pred)\n",
        "acc_score = accuracy_score(Y_test, Y_pred)\n",
        "report = classification_report(Y_test,Y_pred)\n",
        "print(\"Accuracy: %0.2f\\n\" %(acc_score))\n",
        "print('Classification Report:\\n{}\\n'.format(report))\n",
        "print('Confusion Matrix:\\n{}\\n'.format(cm))"
      ],
      "execution_count": 0,
      "outputs": []
    },
    {
      "cell_type": "markdown",
      "metadata": {
        "id": "3mPhYVyaKE5t",
        "colab_type": "text"
      },
      "source": [
        "Creating an Artificial Neural Network"
      ]
    },
    {
      "cell_type": "code",
      "metadata": {
        "id": "500HK97CCHzj",
        "colab_type": "code",
        "colab": {}
      },
      "source": [
        "def create_model():\n",
        "  #Initializing the ANN\n",
        "  model = Sequential()\n",
        "\n",
        "  #Adding layers to ANN\n",
        "  model.add(Dense(8, kernel_initializer='uniform', activation='relu', input_shape = (15,))) #Input and First Hidden Layer\n",
        "  model.add(Dense(8, kernel_initializer='uniform', activation='relu')) #Second Hidden Layer\n",
        "  model.add(Dense(4, kernel_initializer='uniform', activation='softmax'))\n",
        "\n",
        "  #Compiling the ANN\n",
        "  model.compile(optimizer='adam', loss = 'categorical_crossentropy', metrics=['accuracy', 'mse'])\n",
        "  return model"
      ],
      "execution_count": 0,
      "outputs": []
    },
    {
      "cell_type": "markdown",
      "metadata": {
        "id": "4cB3Pam0O-gh",
        "colab_type": "text"
      },
      "source": [
        "Fitting the model on the training set and predicting results on the test set"
      ]
    },
    {
      "cell_type": "code",
      "metadata": {
        "id": "uOe2VIMfKC6j",
        "colab_type": "code",
        "colab": {}
      },
      "source": [
        "#Fitting the ANN to the training set\n",
        "model = create_model()\n",
        "model.fit(x = X_train, y = one_hot_Y_train, batch_size = 10,epochs = 100, verbose = 1)\n",
        "\n",
        "#Predicting the test set results\n",
        "y_pred = model.predict(X_test, verbose = 1)\n",
        "y_pred = np.argmax(y_pred, axis=1)\n",
        "\n",
        "#Confusion matrix\n",
        "cm = confusion_matrix(Y_test, y_pred)\n",
        "print(cm)"
      ],
      "execution_count": 0,
      "outputs": []
    },
    {
      "cell_type": "markdown",
      "metadata": {
        "id": "8FDPv8DAPs1G",
        "colab_type": "text"
      },
      "source": [
        "Evaluation using 10-Fold Cross Validation (k-Fold)"
      ]
    },
    {
      "cell_type": "code",
      "metadata": {
        "id": "UaI0RHBTCm6v",
        "colab_type": "code",
        "colab": {}
      },
      "source": [
        "model = KerasClassifier(build_fn=create_model, epochs=100, batch_size=10, verbose=0)\n",
        "kfold = StratifiedKFold(n_splits=10, shuffle=True, random_state=0)\n",
        "results = cross_val_score(model, X_train, Y_train, cv=kfold)\n",
        "print('Average Accuracy: %0.2f' %(results.mean()))"
      ],
      "execution_count": 0,
      "outputs": []
    }
  ]
}